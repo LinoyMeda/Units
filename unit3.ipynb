{
 "cells": [
  {
   "cell_type": "markdown",
   "metadata": {},
   "source": [
    "# Unit 3 - missing values\n",
    "---\n",
    "\n",
    "1. Find rows with missing values\n",
    "2. Remove missing values using dropna()  \n",
    "3. Fill missing values using fillna()\n",
    "4. Fill missing values using interpolate()\n",
    "\n",
    "\n",
    "\n"
   ]
  },
  {
   "cell_type": "code",
   "execution_count": 1,
   "metadata": {},
   "outputs": [],
   "source": [
    "import pandas as pd\n",
    "import numpy as np"
   ]
  },
  {
   "cell_type": "code",
   "execution_count": 2,
   "metadata": {},
   "outputs": [],
   "source": [
    "url = 'https://raw.githubusercontent.com/owid/covid-19-data/master/public/data/vaccinations/vaccinations.csv'\n",
    "vacc_df = pd.read_csv(url)"
   ]
  },
  {
   "cell_type": "markdown",
   "metadata": {},
   "source": [
    "<a id='section1'></a>"
   ]
  },
  {
   "cell_type": "markdown",
   "metadata": {},
   "source": [
    "`null` / `na` - no value\n",
    "\n",
    "`NaN` - **N**ot **a** **N**umber - the value is missing. This value will be ignored in calculations such as `.mean()`\n",
    "\n",
    "\n",
    "### 1. Find rows with missing values"
   ]
  },
  {
   "cell_type": "code",
   "execution_count": 3,
   "metadata": {},
   "outputs": [
    {
     "data": {
      "text/plain": [
       "location                                  0\n",
       "iso_code                                  0\n",
       "date                                      0\n",
       "total_vaccinations                     4126\n",
       "people_vaccinated                      4760\n",
       "people_fully_vaccinated                6553\n",
       "daily_vaccinations_raw                 5172\n",
       "daily_vaccinations                      201\n",
       "total_vaccinations_per_hundred         4126\n",
       "people_vaccinated_per_hundred          4760\n",
       "people_fully_vaccinated_per_hundred    6553\n",
       "daily_vaccinations_per_million          201\n",
       "dtype: int64"
      ]
     },
     "execution_count": 3,
     "metadata": {},
     "output_type": "execute_result"
    }
   ],
   "source": [
    "vacc_df.isnull().sum()"
   ]
  },
  {
   "cell_type": "markdown",
   "metadata": {},
   "source": [
    "`isnull()` is a pandas function, so either use it on a dataframe or call it through pd"
   ]
  },
  {
   "cell_type": "code",
   "execution_count": 4,
   "metadata": {},
   "outputs": [
    {
     "data": {
      "text/plain": [
       "location                                  0\n",
       "iso_code                                  0\n",
       "date                                      0\n",
       "total_vaccinations                     4126\n",
       "people_vaccinated                      4760\n",
       "people_fully_vaccinated                6553\n",
       "daily_vaccinations_raw                 5172\n",
       "daily_vaccinations                      201\n",
       "total_vaccinations_per_hundred         4126\n",
       "people_vaccinated_per_hundred          4760\n",
       "people_fully_vaccinated_per_hundred    6553\n",
       "daily_vaccinations_per_million          201\n",
       "dtype: int64"
      ]
     },
     "execution_count": 4,
     "metadata": {},
     "output_type": "execute_result"
    }
   ],
   "source": [
    "pd.isnull(vacc_df).sum()"
   ]
  },
  {
   "cell_type": "code",
   "execution_count": 5,
   "metadata": {},
   "outputs": [
    {
     "data": {
      "text/plain": [
       "10964"
      ]
     },
     "execution_count": 5,
     "metadata": {},
     "output_type": "execute_result"
    }
   ],
   "source": [
    "vacc_df['daily_vaccinations'].notnull().sum()"
   ]
  },
  {
   "cell_type": "code",
   "execution_count": null,
   "metadata": {},
   "outputs": [],
   "source": [
    "vacc_df['daily_vaccinations'].isnull().sum()"
   ]
  },
  {
   "cell_type": "markdown",
   "metadata": {},
   "source": [
    "`isnan` is a numpy function"
   ]
  },
  {
   "cell_type": "code",
   "execution_count": null,
   "metadata": {},
   "outputs": [],
   "source": [
    "np.isnan(vacc_df['daily_vaccinations']).sum()"
   ]
  },
  {
   "cell_type": "markdown",
   "metadata": {},
   "source": [
    "### 2. Remove missing values using dropna() "
   ]
  },
  {
   "cell_type": "markdown",
   "metadata": {},
   "source": [
    "Zimbabwe contains missing values"
   ]
  },
  {
   "cell_type": "code",
   "execution_count": null,
   "metadata": {},
   "outputs": [],
   "source": [
    "zimbabwe = vacc_df.loc[vacc_df.location == 'Zimbabwe']\n",
    "zimbabwe.head(10)"
   ]
  },
  {
   "cell_type": "code",
   "execution_count": null,
   "metadata": {},
   "outputs": [],
   "source": [
    "zimbabwe['total_vaccinations'].isnull().sum()"
   ]
  },
  {
   "cell_type": "code",
   "execution_count": null,
   "metadata": {},
   "outputs": [],
   "source": [
    "zimbabwe['total_vaccinations'].notnull().sum()"
   ]
  },
  {
   "cell_type": "markdown",
   "metadata": {},
   "source": [
    "We can see the difference between the number of values per row"
   ]
  },
  {
   "cell_type": "code",
   "execution_count": null,
   "metadata": {},
   "outputs": [],
   "source": [
    "zimbabwe.count()"
   ]
  },
  {
   "cell_type": "markdown",
   "metadata": {},
   "source": [
    "Remove all values for a specific column"
   ]
  },
  {
   "cell_type": "code",
   "execution_count": null,
   "metadata": {},
   "outputs": [],
   "source": [
    "zimbabwe.dropna(subset = ['total_vaccinations']).count()"
   ]
  },
  {
   "cell_type": "raw",
   "metadata": {},
   "source": [
    "For more columns"
   ]
  },
  {
   "cell_type": "code",
   "execution_count": null,
   "metadata": {},
   "outputs": [],
   "source": [
    "zimbabwe.dropna(subset = ['total_vaccinations', 'daily_vaccinations_per_million']).head()"
   ]
  },
  {
   "cell_type": "markdown",
   "metadata": {},
   "source": [
    "For all columns"
   ]
  },
  {
   "cell_type": "code",
   "execution_count": null,
   "metadata": {},
   "outputs": [],
   "source": [
    "zimbabwe.dropna()"
   ]
  },
  {
   "cell_type": "markdown",
   "metadata": {},
   "source": [
    "Note: `dropna()`, like most other functions in the pandas API returns a new DataFrame \n",
    "(a copy of the original with changes) as the result, so you should assign it back if you want to see changes:"
   ]
  },
  {
   "cell_type": "code",
   "execution_count": null,
   "metadata": {},
   "outputs": [],
   "source": [
    "zimbabwe.count()"
   ]
  },
  {
   "cell_type": "markdown",
   "metadata": {},
   "source": [
    "assign it back:"
   ]
  },
  {
   "cell_type": "code",
   "execution_count": null,
   "metadata": {},
   "outputs": [],
   "source": [
    "zimbabwe2 = zimbabwe.dropna()\n",
    "zimbabwe2\n"
   ]
  },
  {
   "cell_type": "markdown",
   "metadata": {},
   "source": [
    "---\n",
    ">A summary of the functions so far:\n",
    ">\n",
    ">* `.isnull()` - display rows that contain missing values\n",
    ">* `.notnull()` - display rows that don't contain missing values\n",
    ">* `.dropna()` - Remove rows with missing values according to parameters:\n",
    "    * `.dropna()` (default) - drops rows if at least one column has NaN\n",
    "    * `.dropna(how='all')` - drops rows only if all of its columns have NaNs\n",
    "    * `.dropna(thresh = k)` - k how many non-null values you want to keep (k=3 means the row should contain at least 3 non-null values)\n",
    "    * `.dropna(axis=1)` - drop columns instead of rows\n",
    "> \n",
    "\n",
    "See documnetation [here.](https://pandas.pydata.org/pandas-docs/stable/reference/api/pandas.DataFrame.dropna.html)\n",
    "\n",
    "---\n"
   ]
  },
  {
   "cell_type": "markdown",
   "metadata": {},
   "source": [
    "### 3. Fill missing values using fillna()"
   ]
  },
  {
   "cell_type": "markdown",
   "metadata": {},
   "source": [
    "Use `.fillna()` to fill missing dataframe values with:\n",
    "* Whatever value you choose\n",
    "* Mean, median, mode"
   ]
  },
  {
   "cell_type": "markdown",
   "metadata": {},
   "source": [
    "Replace all NaNs with 0s"
   ]
  },
  {
   "cell_type": "code",
   "execution_count": null,
   "metadata": {},
   "outputs": [],
   "source": [
    "vacc_df.fillna(0, inplace = False )\n",
    "vacc_df"
   ]
  },
  {
   "cell_type": "markdown",
   "metadata": {},
   "source": [
    ">`inplace = False` is the default. This doesn't change the vacc_df dataframe. \n",
    ">\n",
    ">To change it you need:\n",
    ">\n",
    ">`vacc_df.fillna(0 , inplace = True)`\n",
    ">\n",
    ">or to assign:\n",
    ">\n",
    ">`vacc_df = vacc_df.fillna(0)`\n",
    ">\n",
    ">But we won't do that! This is where some **business understanding** comes in: it's not a good idea to fill a column like `total_vaccinations` with 0s. \n",
    ">\n",
    ">See what happens:"
   ]
  },
  {
   "cell_type": "code",
   "execution_count": null,
   "metadata": {},
   "outputs": [],
   "source": [
    "vacc_df.fillna(0).head(15)"
   ]
  },
  {
   "cell_type": "markdown",
   "metadata": {},
   "source": [
    "So we'll use 0's only for the daily_vaccinations columns, and perhaps for some other columns (which?)"
   ]
  },
  {
   "cell_type": "code",
   "execution_count": null,
   "metadata": {},
   "outputs": [],
   "source": [
    "vacc_df['daily_vaccinations'].fillna(0 , inplace = True)"
   ]
  },
  {
   "cell_type": "markdown",
   "metadata": {},
   "source": [
    "checkout some of the data to see that it works"
   ]
  },
  {
   "cell_type": "code",
   "execution_count": null,
   "metadata": {},
   "outputs": [],
   "source": [
    "vacc_df.iloc[0:3,[0,2,7]]"
   ]
  },
  {
   "cell_type": "markdown",
   "metadata": {},
   "source": [
    "What about `total_vaccinations`?"
   ]
  },
  {
   "cell_type": "code",
   "execution_count": null,
   "metadata": {},
   "outputs": [],
   "source": [
    "vacc_df.iloc[52:62,[0,2,3]]"
   ]
  },
  {
   "cell_type": "markdown",
   "metadata": {},
   "source": [
    "For the `total_vaccinations` we'll use `ffill` which fills the missing values with first non-missing value that occurs before it.\n",
    "\n",
    "Yes, `bfill` exists as well. If does what you think it does :-)"
   ]
  },
  {
   "cell_type": "code",
   "execution_count": null,
   "metadata": {},
   "outputs": [],
   "source": [
    "vacc_df['total_vaccinations'].fillna(method='ffill')[52:62]\n",
    "#vacc_df['total_vaccinations'][52:62]"
   ]
  },
  {
   "cell_type": "markdown",
   "metadata": {},
   "source": [
    "The first value for some country might be NaN \n",
    "\n",
    "Business understanding: this isn't good enought! We need to aggregate by country!!"
   ]
  },
  {
   "cell_type": "code",
   "execution_count": null,
   "metadata": {},
   "outputs": [],
   "source": [
    "vacc_df.iloc[57:62,[0,2,3]]"
   ]
  },
  {
   "cell_type": "markdown",
   "metadata": {},
   "source": [
    "Use `groupby()` and `apply`\n",
    "\n",
    "(This is more advanced and we will learn it later)\n"
   ]
  },
  {
   "cell_type": "code",
   "execution_count": null,
   "metadata": {},
   "outputs": [],
   "source": [
    "vacc_df['newTotal'] = vacc_df.groupby('location')['total_vaccinations'].apply(lambda x: x.fillna(method='ffill'))\n",
    "vacc_df.iloc[52:62,[0,2,3,12]]"
   ]
  },
  {
   "cell_type": "markdown",
   "metadata": {},
   "source": [
    "Other options - using central measures:\n",
    "\n",
    "(this is without grouping by country)"
   ]
  },
  {
   "cell_type": "code",
   "execution_count": null,
   "metadata": {},
   "outputs": [],
   "source": [
    "# Using median\n",
    "vacc_df['daily_vaccinations'].fillna(vacc_df['daily_vaccinations'].median(), inplace=True)\n",
    "  \n",
    "# Using mean\n",
    "#vacc_df['daily_vaccinations'].fillna(vacc_df['daily_vaccinations'].mean(), inplace=True)\n",
    "  \n",
    "# Using mode\n",
    "#vacc_df['daily_vaccinations'].fillna(vacc_df['daily_vaccinations'].mode(), inplace=True)"
   ]
  },
  {
   "cell_type": "markdown",
   "metadata": {},
   "source": [
    "### 4. Fill missing values using interpolate()"
   ]
  },
  {
   "cell_type": "code",
   "execution_count": 7,
   "metadata": {},
   "outputs": [
    {
     "data": {
      "text/html": [
       "<div>\n",
       "<style scoped>\n",
       "    .dataframe tbody tr th:only-of-type {\n",
       "        vertical-align: middle;\n",
       "    }\n",
       "\n",
       "    .dataframe tbody tr th {\n",
       "        vertical-align: top;\n",
       "    }\n",
       "\n",
       "    .dataframe thead th {\n",
       "        text-align: right;\n",
       "    }\n",
       "</style>\n",
       "<table border=\"1\" class=\"dataframe\">\n",
       "  <thead>\n",
       "    <tr style=\"text-align: right;\">\n",
       "      <th></th>\n",
       "      <th>location</th>\n",
       "      <th>date</th>\n",
       "      <th>total_vaccinations</th>\n",
       "    </tr>\n",
       "  </thead>\n",
       "  <tbody>\n",
       "    <tr>\n",
       "      <th>52</th>\n",
       "      <td>Africa</td>\n",
       "      <td>2021-02-07</td>\n",
       "      <td>549151.0</td>\n",
       "    </tr>\n",
       "    <tr>\n",
       "      <th>53</th>\n",
       "      <td>Africa</td>\n",
       "      <td>2021-02-08</td>\n",
       "      <td>593502.0</td>\n",
       "    </tr>\n",
       "    <tr>\n",
       "      <th>54</th>\n",
       "      <td>Africa</td>\n",
       "      <td>2021-02-09</td>\n",
       "      <td>661263.0</td>\n",
       "    </tr>\n",
       "    <tr>\n",
       "      <th>55</th>\n",
       "      <td>Africa</td>\n",
       "      <td>2021-02-10</td>\n",
       "      <td>795836.0</td>\n",
       "    </tr>\n",
       "    <tr>\n",
       "      <th>56</th>\n",
       "      <td>Africa</td>\n",
       "      <td>2021-02-11</td>\n",
       "      <td>908796.0</td>\n",
       "    </tr>\n",
       "    <tr>\n",
       "      <th>57</th>\n",
       "      <td>Africa</td>\n",
       "      <td>2021-02-12</td>\n",
       "      <td>1165581.0</td>\n",
       "    </tr>\n",
       "    <tr>\n",
       "      <th>58</th>\n",
       "      <td>Africa</td>\n",
       "      <td>2021-02-13</td>\n",
       "      <td>1446178.0</td>\n",
       "    </tr>\n",
       "    <tr>\n",
       "      <th>59</th>\n",
       "      <td>Africa</td>\n",
       "      <td>2021-02-14</td>\n",
       "      <td>1606588.5</td>\n",
       "    </tr>\n",
       "    <tr>\n",
       "      <th>60</th>\n",
       "      <td>Africa</td>\n",
       "      <td>2021-02-15</td>\n",
       "      <td>1766999.0</td>\n",
       "    </tr>\n",
       "    <tr>\n",
       "      <th>61</th>\n",
       "      <td>Africa</td>\n",
       "      <td>2021-02-16</td>\n",
       "      <td>1965819.0</td>\n",
       "    </tr>\n",
       "  </tbody>\n",
       "</table>\n",
       "</div>"
      ],
      "text/plain": [
       "   location        date  total_vaccinations\n",
       "52   Africa  2021-02-07            549151.0\n",
       "53   Africa  2021-02-08            593502.0\n",
       "54   Africa  2021-02-09            661263.0\n",
       "55   Africa  2021-02-10            795836.0\n",
       "56   Africa  2021-02-11            908796.0\n",
       "57   Africa  2021-02-12           1165581.0\n",
       "58   Africa  2021-02-13           1446178.0\n",
       "59   Africa  2021-02-14           1606588.5\n",
       "60   Africa  2021-02-15           1766999.0\n",
       "61   Africa  2021-02-16           1965819.0"
      ]
     },
     "execution_count": 7,
     "metadata": {},
     "output_type": "execute_result"
    }
   ],
   "source": [
    "vacc_df['total_vaccinations'].interpolate(method ='linear',  inplace = True) \n",
    "vacc_df.iloc[52:62,[0,2,3]]"
   ]
  },
  {
   "cell_type": "markdown",
   "metadata": {},
   "source": [
    "---\n",
    ">A summary of the functions so far:\n",
    ">\n",
    ">* `.fillna()` - fill missing values according to parameters:\n",
    "    * `.fillna('k')`  - with value k, create a new dataframe\n",
    "    * `.fillna('k', inplace = True)` - with value k, into the existing dataframe\n",
    "    * `.fillna(method='ffill')` - fill with first non-missing value that occurs before it \n",
    "    * `.fillna(method='bfill')` - fill with first non-missing value that occurs after it  \n",
    "> * `interpolate` - fill using some interpolation technique\n",
    ">\n",
    ">See documnetation:\n",
    ">\n",
    ">* [Missing data handling documentation](https://pandas-docs.github.io/pandas-docs-travis/reference/frame.html#missing-data-handling)\n",
    "---"
   ]
  }
 ],
 "metadata": {
  "kernelspec": {
   "display_name": "Python 3",
   "language": "python",
   "name": "python3"
  },
  "language_info": {
   "codemirror_mode": {
    "name": "ipython",
    "version": 3
   },
   "file_extension": ".py",
   "mimetype": "text/x-python",
   "name": "python",
   "nbconvert_exporter": "python",
   "pygments_lexer": "ipython3",
   "version": "3.8.3"
  }
 },
 "nbformat": 4,
 "nbformat_minor": 4
}
